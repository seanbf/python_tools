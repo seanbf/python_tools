{
 "metadata": {
  "language_info": {
   "codemirror_mode": {
    "name": "ipython",
    "version": 3
   },
   "file_extension": ".py",
   "mimetype": "text/x-python",
   "name": "python",
   "nbconvert_exporter": "python",
   "pygments_lexer": "ipython3",
   "version": "3.7.7-final"
  },
  "orig_nbformat": 2,
  "kernelspec": {
   "name": "python377jvsc74a57bd03516c099f2e50fbe6b83d8aca3e7ba54c35d25f18189c7f24f96f469bdbc3fe7",
   "display_name": "Python 3.7.7 32-bit"
  },
  "metadata": {
   "interpreter": {
    "hash": "3516c099f2e50fbe6b83d8aca3e7ba54c35d25f18189c7f24f96f469bdbc3fe7"
   }
  }
 },
 "nbformat": 4,
 "nbformat_minor": 2,
 "cells": [
  {
   "source": [
    "# Motor Loss Table Generation\n",
    "This tool is used for motor loss table generation for GEN5SW"
   ],
   "cell_type": "markdown",
   "metadata": {}
  },
  {
   "cell_type": "code",
   "execution_count": null,
   "metadata": {},
   "outputs": [],
   "source": [
    "import os\n",
    "import glob\n",
    "import numpy as np\n",
    "import pandas as pd \n",
    "import math\n",
    "import pandas_bokeh\n",
    "pd.set_option(\"plotting.backend\", \"pandas_bokeh\")\n",
    "pandas_bokeh.output_notebook()"
   ]
  },
  {
   "cell_type": "code",
   "execution_count": null,
   "metadata": {},
   "outputs": [],
   "source": [
    "def peak_2_rms(value_peak):\r\n",
    "    value_rms = value_peak / math.sqrt(2)\r\n",
    "    return value_rms\r\n",
    "\r\n",
    "def rms_2_peak(value_rms):\r\n",
    "    value_peak = value_rms * math.sqrt(2)\r\n",
    "    return value_peak\r\n",
    "\r\n",
    "def rpm_2_rads(speed_rpm):\r\n",
    "    speed_rads = speed_rpm * 2 * math.pi \r\n",
    "    return speed_rads\r\n",
    "\r\n",
    "def eff_pc(output_value, input_value):\r\n",
    "   eff_pc = (output_value/input_value) * 100\r\n",
    "   return eff_pc"
   ]
  },
  {
   "cell_type": "code",
   "execution_count": null,
   "metadata": {},
   "outputs": [],
   "source": [
    "# Set directory of data\n",
    "path = r'/Work/Motor Loss Table Gen/Data/220V/Q1'\n",
    "\n",
    "# Join path and look for any .csv's\n",
    "all_files = glob.glob(os.path.join(path, \"*Signals*.csv\"))\n",
    "\n",
    "# Create dataframe from all_files csv's\n",
    "df = pd.concat((pd.read_csv(f) for f in all_files), ignore_index=True)"
   ]
  },
  {
   "cell_type": "code",
   "execution_count": null,
   "metadata": {},
   "outputs": [],
   "source": [
    "df.rename(columns = {\n",
    "                    ' TesOp_B.L2m_TarTrq_IOP'                   :'T_Demanded',\n",
    "                    ' tesOutputData.L2mTes_EstTrq.val_IOP'      :'T_Estimated',\n",
    "                    'Transducer_Torque_IOP'                     :'T_Measured',\n",
    "                    'Transducer_Speed_IOP'                      :'N_Measured',\n",
    "                    ' tesInputData.L2mPosSpdArb_RotorSpd_IOP'   :'N_Unit_rpm',\n",
    "                    ' sensvdcOutputData.L2mSensVdc_Vdc.val_IOP' :'V_DC',\n",
    "                    ' sensidcOutputData.L2mSensIdc_Idc.val_IOP' :'I_DC',\n",
    "                    ' posSpdArbInputData.L2mSensVmt_Vd_IOP'     :'Ud_RMS',\n",
    "                    ' posSpdArbInputData.L2mSensVmt_Vq_IOP'     :'Uq_RMS',\n",
    "                    ' tesOutputData.L2mTes_Id.val_IOP'          :'Id_Peak',\n",
    "                    ' tesOutputData.L2mTes_Iq.val_IOP'          :'Iq_Peak',\n",
    "                    'InverterEfficiency_IOP'                    :'Loss_Inv_Unit'\n",
    "                    }, inplace = True)\n",
    "\n",
    "df.drop(columns = {\n",
    "                    ' TesOp_B.L2m_TarTrq_MCP',\n",
    "                    ' tesOutputData.L2mTes_EstTrq.val_MCP',\n",
    "                    'Transducer_Torque_MCP','Transducer_Speed_MCP',\n",
    "                    ' tesInputData.L2mPosSpdArb_RotorSpd_MCP',\n",
    "                    ' sensvdcOutputData.L2mSensVdc_Vdc.val_MCP',\n",
    "                    ' sensidcOutputData.L2mSensIdc_Idc.val_MCP',\n",
    "                    ' posSpdArbInputData.L2mSensVmt_Vd_MCP',\n",
    "                    ' posSpdArbInputData.L2mSensVmt_Vq_MCP',\n",
    "                    ' tesOutputData.L2mTes_Id.val_MCP',\n",
    "                    ' tesOutputData.L2mTes_Iq.val_MCP',\n",
    "                    'InverterEfficiency_MCP', \n",
    "                    'E2E Value',\n",
    "                    'timestamp'\n",
    "                    }, inplace=True)\n"
   ]
  },
  {
   "cell_type": "code",
   "execution_count": null,
   "metadata": {},
   "outputs": [],
   "source": [
    "# Post process signals\n",
    "\n",
    "# Mechanical\n",
    "df[\"N_Measured_rads\"]   = rpm_2_rads(df[\"N_Measured\"])\n",
    "df[\"P_Measured\"]        = df[\"N_Measured_rads\"] * df[\"T_Measured\"]\n",
    "\n",
    "# DC Link\n",
    "df[\"P_DC\"]              = df[\"V_DC\"] * df[\"I_DC\"]\n",
    "\n",
    "# Phase Peak \n",
    "df[\"Ud_Peak\"]           = rms_2_peak(df[\"Ud_RMS\"]) \n",
    "df[\"Uq_Peak\"]           = rms_2_peak(df[\"Uq_RMS\"]) \n",
    "  \n",
    "# Phase RMS\n",
    "df[\"Id_RMS\"]            = peak_2_rms(df[\"Id_Peak\"]) \n",
    "df[\"Iq_RMS\"]            = peak_2_rms(df[\"Iq_Peak\"]) \n",
    "  \n",
    "# Phase \n",
    "df[\"P_Ph\"]              = (3/2) * ( ( df[\"Ud_Peak\"] * df[\"Id_Peak\"] ) + ( df[\"Uq_Peak\"] * df[\"Iq_Peak\"] ) ) \n",
    "\n",
    "# Losses\n",
    "df[\"Loss_Inv_Real\"]     = df[\"P_DC\"] - df[\"P_Ph\"]\n",
    "df[\"Loss_Mtr\"]          = df[\"P_Measured\"] - df[\"P_Ph\"]\n",
    "df[\"Loss_Mtr_Comp\"]     = df[\"Loss_Mtr\"] - df[\"Loss_Inv_Unit\"]\n",
    "df[\"Loss_Sys\"]          = df[\"Loss_Inv_Real\"] - df[\"Loss_Mtr\"]\n"
   ]
  },
  {
   "cell_type": "code",
   "execution_count": null,
   "metadata": {},
   "outputs": [],
   "source": [
    "# Plot test points\n",
    "# could be faster by rounding or finding unique values?\n",
    "df.plot.scatter(\n",
    "                x       = \"N_Measured\",\n",
    "                y       = \"T_Demanded\",\n",
    "                c       = 'black',\n",
    "                xticks  = np.arange(min(df[\"N_Measured\"]), max(df[\"N_Measured\"]), 1000),\n",
    "                yticks  = np.arange(min(df[\"T_Demanded\"]), max(df[\"T_Demanded\"]), 20),\n",
    "                title   = 'Tested Points',\n",
    "                xlabel  = 'Speed (rpm)',\n",
    "                ylabel  = 'Torque (Nm)',\n",
    "                marker  = 'x'\n",
    "                )"
   ]
  },
  {
   "cell_type": "code",
   "execution_count": null,
   "metadata": {},
   "outputs": [],
   "source": [
    "# Plot Losses\n",
    "df.plot.line(\n",
    "            y       = [\"Loss_Inv_Real\",\"Loss_Inv_Unit\",\"Loss_Mtr\",\"Loss_Mtr_Comp\"],\n",
    "            title   = \"Losses (W)\",\n",
    "            xlabel  = \"Samples (n)\",\n",
    "            ylabel  = \"Torque (Nm)\"\n",
    "            )"
   ]
  },
  {
   "cell_type": "code",
   "execution_count": null,
   "metadata": {},
   "outputs": [],
   "source": [
    "# Plot Powers\n",
    "df.plot.line(\n",
    "            y       = [\"P_DC\",\"P_Ph\",\"P_Measured\"],\n",
    "            title   = \"Powers (W)\",\n",
    "            xlabel  = \"Samples (n)\",\n",
    "            ylabel  = \"Powers (W)\"\n",
    "            )"
   ]
  },
  {
   "cell_type": "code",
   "execution_count": null,
   "metadata": {},
   "outputs": [],
   "source": [
    "\n",
    "Speed_Threshold = 0\n",
    "Torque_Threshold = 0\n",
    "\n",
    "# Determine operating quadrant\n",
    "df[\"Operating_Quadrant\"] = 'VEH_STP'\n",
    "df[\"Operating_Quadrant\"] = np.where((df[\"N_Measured\"] > Speed_Threshold) & (df[\"T_Measured\"] > Torque_Threshold), 'DRV_FWD', df[\"Operating_Quadrant\"])\n",
    "df[\"Operating_Quadrant\"] = np.where((df[\"N_Measured\"] > Speed_Threshold) & (df[\"T_Measured\"] < Torque_Threshold), 'BRK_FWD', df[\"Operating_Quadrant\"])\n",
    "df[\"Operating_Quadrant\"] = np.where((df[\"N_Measured\"] < Speed_Threshold) & (df[\"T_Measured\"] < Torque_Threshold), 'DRV_REV', df[\"Operating_Quadrant\"])\n",
    "df[\"Operating_Quadrant\"] = np.where((df[\"N_Measured\"] < Speed_Threshold) & (df[\"T_Measured\"] > Torque_Threshold), 'BRK_REV', df[\"Operating_Quadrant\"])\n",
    "\n",
    "# Efficiency\n",
    "df[\"Eff_Inv\"] = '0'\n",
    "np.where( (df[\"Operating_Quadrant\"] == 'DRV_FWD') | (df[\"Operating_Quadrant\"] == 'DRV_REV') , eff_pc(df[\"P_Ph\"], df[\"P_DC\"]), df[\"Eff_Inv\"] )\n",
    "np.where( (df[\"Operating_Quadrant\"] == 'BRK_FWD') | (df[\"Operating_Quadrant\"] == 'BRK_REV') , eff_pc(df[\"P_DC\"], df[\"P_Ph\"]), df[\"Eff_Inv\"] )\n",
    "\n",
    "df[\"Eff_Mtr\"] = '0'\n",
    "np.where( (df[\"Operating_Quadrant\"] == 'DRV_FWD') | (df[\"Operating_Quadrant\"] == 'DRV_REV') , eff_pc(df[\"P_Measured\"], df[\"P_Ph\"]), df[\"Eff_Mtr\"] )\n",
    "np.where( (df[\"Operating_Quadrant\"] == 'BRK_FWD') | (df[\"Operating_Quadrant\"] == 'BRK_REV') , eff_pc(df[\"P_Ph\"], df[\"P_Measured\"]), df[\"Eff_Mtr\"] )\n",
    "\n",
    "df[\"Eff_Sys\"] = '0'\n",
    "np.where( (df[\"Operating_Quadrant\"] == 'DRV_FWD') | (df[\"Operating_Quadrant\"] == 'DRV_REV') , eff_pc(df[\"P_Measured\"], df[\"P_DC\"]), df[\"Eff_Sys\"] )\n",
    "np.where( (df[\"Operating_Quadrant\"] == 'BRK_FWD') | (df[\"Operating_Quadrant\"] == 'BRK_REV') , eff_pc(df[\"P_DC\"], df[\"P_Measured\"]), df[\"Eff_Sys\"] )"
   ]
  },
  {
   "cell_type": "code",
   "execution_count": null,
   "metadata": {},
   "outputs": [],
   "source": [
    "# Transient Removal\n",
    "Dwell_Period = 500\n",
    "\n",
    "df[\"Step_Change\"]   = '0'\n",
    "df[\"Step_Change\"]   = df[\"T_Demanded\"].diff()\n",
    "\n",
    "Step_index = (df.index[df['Step_Change'] != 0])\n",
    "Stop_index = Step_index + Dwell_Period\n",
    "\n",
    "delete_slice = [0]\n",
    "\n",
    "for x in range(len(Step_index)):\n",
    "    temp_slice = np.arange( Step_index[x], Stop_index[x], 1 )\n",
    "    delete_slice.extend(temp_slice) \n",
    "\n",
    "df.drop(delete_slice)\n"
   ]
  },
  {
   "cell_type": "code",
   "execution_count": null,
   "metadata": {},
   "outputs": [],
   "source": [
    "  \n",
    "  "
   ]
  }
 ]
}